{
 "cells": [
  {
   "cell_type": "code",
   "execution_count": 2,
   "metadata": {},
   "outputs": [],
   "source": [
    "import numpy as np"
   ]
  },
  {
   "cell_type": "code",
   "execution_count": 29,
   "metadata": {},
   "outputs": [],
   "source": [
    "class Noeud:\n",
    "    def __init__(self,valeur, parents=[]):\n",
    "        self.valeur = valeur.astype(np.float64)\n",
    "        self.parents = parents\n",
    "\n",
    "        self.grad = np.zeros_like(self.valeur) # dA\n",
    "\n",
    "        self._backward = lambda : None\n",
    "\n",
    "    def __add__(A, B):\n",
    "        A_2 = A\n",
    "        B_2 = B\n",
    "        #broadcasting\n",
    "        if(A.valeur.shape[0] != B.valeur.shape[0]):\n",
    "            if (B.valeur.shape[0] == 1):\n",
    "                p = A.valeur.shape[0]\n",
    "                B_2 = Noeud(np.ones((p,1))) *B\n",
    "            elif(A.valeur.shape[0] == 1):\n",
    "                p = B.valeur.shape[0]\n",
    "                A_2 = Noeud(np.ones((p,1))) *A\n",
    "            else:\n",
    "                print(\"erreur de dimension\")\n",
    "        elif(A.valeur.shape[1] != B.valeur.shape[1]):\n",
    "            if (B.valeur.shape[1] == 1):\n",
    "                p = A.valeur.shape[1]\n",
    "                B_2 = B* Noeud(np.ones((p,1)).T) \n",
    "            elif(A.valeur.shape[1] == 1):\n",
    "                p = B.valeur.shape[1]\n",
    "                A_2 = A* Noeud(np.ones((p,1)).T)\n",
    "            else:\n",
    "                print(\"erreur de dimension\")\n",
    "        else:\n",
    "            print(\"erreur de dimension\")          \n",
    "\n",
    "        C = Noeud(A_2.valeur + B_2.valeur, parents=[A_2,B_2])\n",
    "        \n",
    "        def _backward():\n",
    "            A_2.grad += C.grad\n",
    "            B_2.grad += C.grad\n",
    "        \n",
    "        C._backward = _backward\n",
    "        return C\n",
    "    \n",
    "    def __mul__(A, B):\n",
    "        C = Noeud(np.matmul(A.valeur,B.valeur), parents=[A,B])\n",
    "\n",
    "        def _backward():\n",
    "            A.grad += np.matmul(C.grad, B.valeur.T)\n",
    "            B.grad += np.matmul(A.valeur.T, C.grad)\n",
    "        \n",
    "        C._backward = _backward\n",
    "        return C\n",
    "    \n",
    "    def exp(A):\n",
    "        C = Noeud(np.exp(A.valeur), parents=[A])\n",
    "\n",
    "        def _backward():\n",
    "            A.grad += np.multiply(C.valeur, C.grad)\n",
    "        \n",
    "        C._backward = _backward\n",
    "        return C\n",
    "    \n",
    "    def clear_grads(sortie):\n",
    "        a_visiter = sortie.parents.copy()\n",
    "        while not len(a_visiter)== 0 :\n",
    "            s = a_visiter.pop()\n",
    "            s.grad = np.zeros_like(s.valeur)\n",
    "            for parent in s.parents:\n",
    "                if parent not in a_visiter:\n",
    "                    a_visiter.append(parent)\n",
    "\n",
    "    def somme_lignes(A):\n",
    "        # revient à multiplier par J_p à droite\n",
    "        C = A * Noeud(np.ones((A.valeur.shape[1], 1)))\n",
    "        return C\n",
    "    \n",
    "    def somme_colonnes(A):\n",
    "        #revient à multiplier par J_p.t à gauche\n",
    "        C =  Noeud(np.ones((A.valeur.shape[0], 1)).T) * A\n",
    "        return C\n",
    "    \n",
    "    def somme(A):\n",
    "        C = A.somme_lignes()\n",
    "        D = C.somme_colonnes()\n",
    "        return D\n",
    "               \n",
    "    \n",
    "    def backward(sortie):\n",
    "        #remettre à 0 les gradients de tout les noeuds \n",
    "        sortie.clear_grads()\n",
    "\n",
    "        dejaVu = set()\n",
    "        L = []\n",
    "\n",
    "        def parcours(s):\n",
    "            dejaVu.add(s)\n",
    "\n",
    "            for parent in s.parents:\n",
    "                if parent not in dejaVu:\n",
    "                    parcours(parent)\n",
    "            \n",
    "            # fin de traitement de s\n",
    "            L.append(s)\n",
    "\n",
    "        parcours(sortie)\n",
    "\n",
    "        sortie.grad = np.array([[1]])\n",
    "        for s in reversed(L):\n",
    "            s._backward()\n",
    "\n"
   ]
  },
  {
   "cell_type": "code",
   "execution_count": 30,
   "metadata": {},
   "outputs": [],
   "source": [
    "A = Noeud(np.array(([2,3], [1,0])))\n",
    "B = Noeud(np.array(([1,2], [3,4])))\n",
    "d = Noeud(np.array(([3], [2])))\n",
    "\n",
    "C = A*B\n",
    "E = C+d\n",
    "J = E.somme()"
   ]
  },
  {
   "cell_type": "code",
   "execution_count": 31,
   "metadata": {},
   "outputs": [
    {
     "name": "stdout",
     "output_type": "stream",
     "text": [
      "[[40.]]\n"
     ]
    }
   ],
   "source": [
    "print(J.valeur)"
   ]
  },
  {
   "cell_type": "code",
   "execution_count": 32,
   "metadata": {},
   "outputs": [],
   "source": [
    "J.backward()"
   ]
  },
  {
   "cell_type": "code",
   "execution_count": 35,
   "metadata": {},
   "outputs": [
    {
     "data": {
      "text/plain": [
       "array([[3., 7.],\n",
       "       [3., 7.]])"
      ]
     },
     "execution_count": 35,
     "metadata": {},
     "output_type": "execute_result"
    }
   ],
   "source": [
    "A.grad"
   ]
  }
 ],
 "metadata": {
  "kernelspec": {
   "display_name": "programmingExpert",
   "language": "python",
   "name": "python3"
  },
  "language_info": {
   "codemirror_mode": {
    "name": "ipython",
    "version": 3
   },
   "file_extension": ".py",
   "mimetype": "text/x-python",
   "name": "python",
   "nbconvert_exporter": "python",
   "pygments_lexer": "ipython3",
   "version": "3.9.19"
  }
 },
 "nbformat": 4,
 "nbformat_minor": 2
}
