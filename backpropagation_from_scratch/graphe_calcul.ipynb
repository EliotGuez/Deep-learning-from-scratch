{
 "cells": [
  {
   "cell_type": "code",
   "execution_count": 1,
   "metadata": {},
   "outputs": [],
   "source": [
    "import math "
   ]
  },
  {
   "cell_type": "code",
   "execution_count": 7,
   "metadata": {},
   "outputs": [],
   "source": [
    "class Noeud:\n",
    "    def __init__(self,valeur, parents=[]):\n",
    "        self.valeur = valeur\n",
    "        self.parents = parents\n",
    "\n",
    "        self.grad = 0 # da\n",
    "\n",
    "        self._backward = lambda : None\n",
    "\n",
    "    def __add__(self, b):\n",
    "        c = Noeud(self.valeur + b.valeur, parents=[self,b])\n",
    "        \n",
    "        def _backward():\n",
    "            self.grad += 1 * c.grad\n",
    "            b.grad += 1 * c.grad\n",
    "        \n",
    "        c._backward = _backward\n",
    "        return c\n",
    "    \n",
    "    def __mul__(self, b):\n",
    "        c = Noeud(self.valeur * b.valeur, parents=[self,b])\n",
    "\n",
    "        def _backward():\n",
    "            self.grad += b.valeur * c.grad\n",
    "            b.grad += self.valeur * c.grad\n",
    "        \n",
    "        c._backward = _backward\n",
    "        return c\n",
    "    \n",
    "    def exp(self):\n",
    "        c = Noeud(math.exp(self.valeur), parents=[self])\n",
    "\n",
    "        def _backward():\n",
    "            self.grad += c.valeur * c.grad\n",
    "        \n",
    "        c._backward = _backward\n",
    "        return c\n",
    "    \n",
    "    def clear_grads(self):\n",
    "        a_visiter = self.parents.copy()\n",
    "        while not len(a_visiter)== 0 :\n",
    "            s = a_visiter.pop()\n",
    "            s.grad = 0 \n",
    "            for parent in s.parents:\n",
    "                if parent not in a_visiter:\n",
    "                    a_visiter.append(parent)\n",
    "    \n",
    "    def backward(self):\n",
    "        #remettre à 0 les gradients de tout les noeuds \n",
    "        self.clear_grads()\n",
    "\n",
    "        dejaVu = set()\n",
    "        L = []\n",
    "\n",
    "        def parcours(s):\n",
    "            dejaVu.add(s)\n",
    "\n",
    "            for parent in s.parents:\n",
    "                if parent not in dejaVu:\n",
    "                    parcours(parent)\n",
    "            \n",
    "            # fin de traitement de s\n",
    "            L.append(s)\n",
    "\n",
    "        parcours(self)\n",
    "\n",
    "        self.grad = 1\n",
    "        print(L)\n",
    "        for s in reversed(L):\n",
    "            s._backward()\n",
    "\n"
   ]
  },
  {
   "cell_type": "code",
   "execution_count": 3,
   "metadata": {},
   "outputs": [],
   "source": [
    "a = Noeud(3)\n",
    "b = Noeud(4)\n",
    "c = a + b\n",
    "d = b * c"
   ]
  },
  {
   "cell_type": "markdown",
   "metadata": {},
   "source": [
    "we will have \n",
    "\\begin{align*}\n",
    "dd = 1\\\\\n",
    "dc = \\frac {dd} {dc} dd = 4*1 =4 \\\\\n",
    "db = \\frac {dd} {db} * dd + \\frac {dc} {db}  = 7 + 4 = 11\\\\\n",
    "da = 4 = dc\n",
    "\\end{align*} "
   ]
  },
  {
   "cell_type": "code",
   "execution_count": 4,
   "metadata": {},
   "outputs": [
    {
     "name": "stdout",
     "output_type": "stream",
     "text": [
      "7 28\n"
     ]
    }
   ],
   "source": [
    "print(c.valeur, d.valeur)"
   ]
  },
  {
   "cell_type": "code",
   "execution_count": 9,
   "metadata": {},
   "outputs": [],
   "source": [
    "d.backward()"
   ]
  },
  {
   "cell_type": "code",
   "execution_count": 11,
   "metadata": {},
   "outputs": [
    {
     "name": "stdout",
     "output_type": "stream",
     "text": [
      "gradient de a : 4\n",
      "gradient de b : 11\n",
      "gradient de c : 4\n",
      "gradient de d : 1\n"
     ]
    }
   ],
   "source": [
    "print( 'gradient de a :', a.grad)\n",
    "print( 'gradient de b :', b.grad)\n",
    "print( 'gradient de c :', c.grad)\n",
    "print( 'gradient de d :', d.grad)\n"
   ]
  },
  {
   "cell_type": "code",
   "execution_count": null,
   "metadata": {},
   "outputs": [],
   "source": []
  },
  {
   "cell_type": "code",
   "execution_count": null,
   "metadata": {},
   "outputs": [],
   "source": []
  }
 ],
 "metadata": {
  "kernelspec": {
   "display_name": "programmingExpert",
   "language": "python",
   "name": "python3"
  },
  "language_info": {
   "codemirror_mode": {
    "name": "ipython",
    "version": 3
   },
   "file_extension": ".py",
   "mimetype": "text/x-python",
   "name": "python",
   "nbconvert_exporter": "python",
   "pygments_lexer": "ipython3",
   "version": "3.9.19"
  }
 },
 "nbformat": 4,
 "nbformat_minor": 2
}
